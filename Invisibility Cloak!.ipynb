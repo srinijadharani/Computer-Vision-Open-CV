{
 "cells": [
  {
   "cell_type": "code",
   "execution_count": 3,
   "metadata": {},
   "outputs": [],
   "source": [
    "import numpy as np\n",
    "import cv2\n",
    "\n",
    "def detect_blue(frame, background):\n",
    "    # Convert image to HSV\n",
    "    hsv_image = cv2.cvtColor(frame, cv2.COLOR_RGB2HSV)\n",
    "\n",
    "    sensitivity = 20\n",
    "    H_Value = 20    # Change this value if you want to segment some other color\n",
    "    light_blue = np.array([H_Value - sensitivity, 60, 60])\n",
    "    dark_blue = np.array([H_Value + sensitivity, 255, 255])\n",
    "    mask = cv2.inRange(hsv_image, light_blue, dark_blue)    # Creating a segmentaion mask for blue color\n",
    "\n",
    "    # Bigger the kernel size, lesser the gaps\n",
    "    kernel_size = 10\n",
    "    kernel = np.ones((kernel_size, kernel_size), np.uint8)\n",
    "    closing = cv2.morphologyEx(mask, cv2.MORPH_CLOSE, kernel)\n",
    "\n",
    "    contours, _ = cv2.findContours(closing, cv2.RETR_EXTERNAL, cv2.CHAIN_APPROX_SIMPLE)\n",
    "    cont_sorted = sorted(contours, key=cv2.contourArea, reverse=True)[:5]\n",
    "    contour_mask = cv2.fillPoly(np.zeros((500, 500, 3), dtype=np.uint8), pts =[cont_sorted[0]], color=(255,255,255))\n",
    "\n",
    "    object_mask = cv2.fillPoly(frame, pts =[cont_sorted[0]], color=(0,0,0))\n",
    "    background_mask = np.bitwise_and(contour_mask, background)\n",
    "\n",
    "    # Final image is created by doing a bitwise and of the two masks, which in turn removes the color in question\n",
    "    # and replaces it with the background\n",
    "    final_img = cv2.bitwise_or(object_mask, background_mask)\n",
    "    \n",
    "    return final_img\n",
    "\n",
    "\n",
    "\n",
    "cap = cv2.VideoCapture(0)\n",
    "\n",
    "ret, background = cap.read()\n",
    "background = cv2.resize(background, (500, 500))\n",
    "cv2.imshow('Background', background)\n",
    "cv2.waitKey(0)\n",
    "cv2.destroyAllWindows()\n",
    "\n",
    "# Save the video in MP4 format in the same directory as the code (Optional)\n",
    "fourcc = cv2.VideoWriter_fourcc('MP4V')\n",
    "out = cv2.VideoWriter('output.mp4', fourcc, 30.0, (500,500))\n",
    "\n",
    "while(True):\n",
    "    ret, frame = cap.read()\n",
    "    frame = cv2.resize(frame, (500, 500))\n",
    "    image = detect_blue(frame, background)\n",
    "\n",
    "    out.write(image)\n",
    "\n",
    "    cv2.imshow('Image',image)\n",
    "    if cv2.waitKey(1) & 0xFF == ord('q'):\n",
    "        break\n",
    "\n",
    "cap.release()\n",
    "out.release()\n",
    "cv2.destroyAllWindows()"
   ]
  },
  {
   "cell_type": "code",
   "execution_count": null,
   "metadata": {},
   "outputs": [],
   "source": []
  }
 ],
 "metadata": {
  "kernelspec": {
   "display_name": "Python 3",
   "language": "python",
   "name": "python3"
  },
  "language_info": {
   "codemirror_mode": {
    "name": "ipython",
    "version": 3
   },
   "file_extension": ".py",
   "mimetype": "text/x-python",
   "name": "python",
   "nbconvert_exporter": "python",
   "pygments_lexer": "ipython3",
   "version": "3.8.3"
  }
 },
 "nbformat": 4,
 "nbformat_minor": 4
}
