{
 "cells": [
  {
   "cell_type": "markdown",
   "metadata": {},
   "source": [
    "# **Video Basics using Video Files**"
   ]
  },
  {
   "cell_type": "code",
   "execution_count": 8,
   "metadata": {},
   "outputs": [],
   "source": [
    "import cv2\n",
    "\n",
    "cap=cv2.VideoCapture(\"../DATA/My_First_video.mp4\")\n",
    "\n",
    "if cap.isOpened==False:\n",
    "    print(\"Error: FILE NOT FOUND\")\n",
    "    \n",
    "while  cap.isOpened():\n",
    "    ret, frame=cap.read()\n",
    "    \n",
    "    if ret==True:\n",
    "        cv2.imshow(\"frame\", frame)\n",
    "        if cv2.waitKey(10) & 0xFF==ord('q'):\n",
    "            break\n",
    "            \n",
    "    else:\n",
    "        break\n",
    "        #this blcok of code(the else part) means \"if you're not returning anything, meaning, \n",
    "        #you've finished showing the video, break out of the loop (stop executing the loop)\"\n",
    "cap.release()\n",
    "cv2.destroyAllWindows()\n"
   ]
  },
  {
   "cell_type": "markdown",
   "metadata": {},
   "source": [
    "Notice that the video was played very fast. The computer reads every single image and displays it. In order to make the video play in the speed that you want, use the following. (import time)"
   ]
  },
  {
   "cell_type": "code",
   "execution_count": 11,
   "metadata": {},
   "outputs": [],
   "source": [
    "import cv2\n",
    "import time\n",
    "\n",
    "cap=cv2.VideoCapture(\"../DATA/My_First_video.mp4\")\n",
    "\n",
    "if cap.isOpened==False:\n",
    "    print(\"Error: FILE NOT FOUND\")\n",
    "    \n",
    "while  cap.isOpened():\n",
    "    ret, frame=cap.read()\n",
    "    \n",
    "    if ret==True:\n",
    "        \n",
    "        #writer 20 frames per second (fps)\n",
    "        time.sleep(0.5/20)\n",
    "        cv2.imshow(\"frame\", frame)\n",
    "        if cv2.waitKey(10) & 0xFF==ord('q'):\n",
    "            break\n",
    "            \n",
    "    else:\n",
    "        break\n",
    "        \n",
    "cap.release()\n",
    "cv2.destroyAllWindows()\n"
   ]
  }
 ],
 "metadata": {
  "kernelspec": {
   "display_name": "Python 3",
   "language": "python",
   "name": "python3"
  },
  "language_info": {
   "codemirror_mode": {
    "name": "ipython",
    "version": 3
   },
   "file_extension": ".py",
   "mimetype": "text/x-python",
   "name": "python",
   "nbconvert_exporter": "python",
   "pygments_lexer": "ipython3",
   "version": "3.7.6"
  }
 },
 "nbformat": 4,
 "nbformat_minor": 4
}
