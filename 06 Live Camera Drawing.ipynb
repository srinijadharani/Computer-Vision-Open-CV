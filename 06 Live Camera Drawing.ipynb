{
 "cells": [
  {
   "cell_type": "markdown",
   "metadata": {},
   "source": [
    "# **Drawing on Live Camera**"
   ]
  },
  {
   "cell_type": "code",
   "execution_count": 3,
   "metadata": {},
   "outputs": [],
   "source": [
    "import cv2\n",
    "\n",
    "#callback fucnt: rectangle\n",
    "def draw_rect(event, x, y, flags, param):\n",
    "    \n",
    "    global pt1, pt2, topLeftClicked, botRightClicked\n",
    "    \n",
    "    if event==cv2.EVENT_LBUTTONDOWN:\n",
    "        \n",
    "        #reset the rectangle (basically, erase)\n",
    "        if topLeftClicked==True and botRightClicked==True:\n",
    "            pt1=(0,0)\n",
    "            pt2=(0,0)\n",
    "            topLeftClicked=False\n",
    "            botRightClicked=False\n",
    "            \n",
    "        if topLeftClicked==False:\n",
    "            pt1=(x,y)\n",
    "            topLeftClicked=True\n",
    "        \n",
    "        elif botRightClicked==False:\n",
    "            pt2=(x,y)\n",
    "            botRightClicked=True\n",
    "            \n",
    "\n",
    "#Global variables\n",
    "pt1=(0,0)\n",
    "pt2=(0,0)\n",
    "\n",
    "topLeftClicked=False\n",
    "botRightClicked=False\n",
    "\n",
    "cap=cv2.VideoCapture(0)\n",
    "cv2.namedWindow(\"Draw_Rectangle\")\n",
    "cv2.setMouseCallback(\"Draw_Rectangle\", draw_rect)\n",
    "\n",
    "while True:\n",
    "    \n",
    "    ret, frame=cap.read()\n",
    "    \n",
    "    if topLeftClicked==True:\n",
    "        cv2.circle(frame, center=pt1, radius=1, color=(0,0,255), thickness=-1)\n",
    "    \n",
    "    if topLeftClicked==True and botRightClicked==True:\n",
    "        cv2.rectangle(frame, pt1=pt1, pt2=pt2, color=(0,0,255), thickness=2)\n",
    "    \n",
    "    cv2.imshow(\"Draw_Rectangle\", frame)\n",
    "    \n",
    "    if cv2.waitKey(1) & 0xFF==ord(\"q\"):\n",
    "        break\n",
    "        \n",
    "cap.release()\n",
    "\n",
    "cv2.destroyAllWindows()"
   ]
  },
  {
   "cell_type": "code",
   "execution_count": null,
   "metadata": {},
   "outputs": [],
   "source": []
  }
 ],
 "metadata": {
  "kernelspec": {
   "display_name": "Python 3",
   "language": "python",
   "name": "python3"
  },
  "language_info": {
   "codemirror_mode": {
    "name": "ipython",
    "version": 3
   },
   "file_extension": ".py",
   "mimetype": "text/x-python",
   "name": "python",
   "nbconvert_exporter": "python",
   "pygments_lexer": "ipython3",
   "version": "3.7.6"
  }
 },
 "nbformat": 4,
 "nbformat_minor": 4
}
