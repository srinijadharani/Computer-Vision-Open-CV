{
 "cells": [
  {
   "cell_type": "markdown",
   "metadata": {},
   "source": [
    "# **Video Basics**"
   ]
  },
  {
   "cell_type": "markdown",
   "metadata": {},
   "source": [
    "## **Connecting to Camera**"
   ]
  },
  {
   "cell_type": "code",
   "execution_count": 4,
   "metadata": {},
   "outputs": [
    {
     "name": "stdout",
     "output_type": "stream",
     "text": [
      "width= 640.0\n",
      "height= 480.0\n"
     ]
    }
   ],
   "source": [
    "import cv2\n",
    "\n",
    "#this just opens the camera \n",
    "\n",
    "cap=cv2.VideoCapture(0)\n",
    "\n",
    "width=cap.get(cv2.CAP_PROP_FRAME_WIDTH)\n",
    "height=cap.get(cv2.CAP_PROP_FRAME_HEIGHT)\n",
    "\n",
    "while True:\n",
    "    \n",
    "    ret, frame=cap.read()\n",
    "    \n",
    "    #gray=cv2.cvtColor(frame, cv2.COLOR_BGR2GRAY)\n",
    "    \n",
    "    cv2.imshow(\"frame\", frame)\n",
    "    \n",
    "    if cv2.waitKey(1) & 0xFF==ord('q'):\n",
    "        break\n",
    "        \n",
    "cap.release()\n",
    "#stops capturing the image\n",
    "\n",
    "cv2.destroyAllWindows()\n",
    "\n",
    "print(\"width=\", width)\n",
    "print(\"height=\", height)"
   ]
  },
  {
   "cell_type": "code",
   "execution_count": 5,
   "metadata": {},
   "outputs": [
    {
     "data": {
      "text/plain": [
       "'C:\\\\Users\\\\srinija\\\\Desktop\\\\Computer Vision Python\\\\03-Video-Basics'"
      ]
     },
     "execution_count": 5,
     "metadata": {},
     "output_type": "execute_result"
    }
   ],
   "source": [
    "pwd"
   ]
  },
  {
   "cell_type": "code",
   "execution_count": 19,
   "metadata": {},
   "outputs": [
    {
     "name": "stdout",
     "output_type": "stream",
     "text": [
      "width= 640.0\n",
      "height= 480.0\n",
      "saved!\n"
     ]
    }
   ],
   "source": [
    "import cv2\n",
    "\n",
    "cap=cv2.VideoCapture(0)\n",
    "\n",
    "width=cap.get(cv2.CAP_PROP_FRAME_WIDTH)\n",
    "height=cap.get(cv2.CAP_PROP_FRAME_HEIGHT)\n",
    "\n",
    "#writer=cv2.VideoWriter(\"../DATA/My_First_video.mp4\", cv2.VideoWriter_fourcc(*'DIVX'),frameSize=25, (width, height))\n",
    "\n",
    "fourcc = cv2.VideoWriter_fourcc(*'XVID')\n",
    "writer = cv2.VideoWriter('../DATA/My_First_video.mp4', fourcc, 20.0, (640,  480))\n",
    "\n",
    "while True:\n",
    "    \n",
    "    ret, frame=cap.read()\n",
    "    \n",
    "    writer.write(frame)\n",
    "    \n",
    "    cv2.imshow(\"frame\", frame)\n",
    "    \n",
    "    if cv2.waitKey(1) & 0xFF==ord('q'):\n",
    "        break\n",
    "        \n",
    "cap.release()\n",
    "writer.release()\n",
    "\n",
    "cv2.destroyAllWindows()\n",
    "\n",
    "print(\"width=\", width)\n",
    "print(\"height=\", height)\n",
    "print(\"saved!\")"
   ]
  },
  {
   "cell_type": "code",
   "execution_count": 6,
   "metadata": {},
   "outputs": [
    {
     "data": {
      "text/plain": [
       "'C:\\\\Users\\\\srinija\\\\Desktop\\\\Computer Vision Python\\\\03-Video-Basics'"
      ]
     },
     "execution_count": 6,
     "metadata": {},
     "output_type": "execute_result"
    }
   ],
   "source": [
    "pwd"
   ]
  },
  {
   "cell_type": "code",
   "execution_count": null,
   "metadata": {},
   "outputs": [],
   "source": []
  }
 ],
 "metadata": {
  "kernelspec": {
   "display_name": "Python 3",
   "language": "python",
   "name": "python3"
  },
  "language_info": {
   "codemirror_mode": {
    "name": "ipython",
    "version": 3
   },
   "file_extension": ".py",
   "mimetype": "text/x-python",
   "name": "python",
   "nbconvert_exporter": "python",
   "pygments_lexer": "ipython3",
   "version": "3.7.6"
  }
 },
 "nbformat": 4,
 "nbformat_minor": 4
}
